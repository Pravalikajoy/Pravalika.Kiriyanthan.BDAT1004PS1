{
 "cells": [
  {
   "cell_type": "markdown",
   "id": "4db2ea07",
   "metadata": {},
   "source": [
    "# Question 1:\n",
    "\n",
    "What data type is each of the following?\n",
    "5\n",
    "5.0\n",
    "5 > 1\n",
    "'5'\n",
    "5 * 2\n",
    "'5' * 2\n",
    "'5' + '2'\n",
    "5 / 2\n",
    "5 % 2\n",
    "{5, 2, 1}\n",
    "5 == 3\n",
    "Pi (the number)"
   ]
  },
  {
   "cell_type": "code",
   "execution_count": 40,
   "id": "c19cfff4",
   "metadata": {},
   "outputs": [
    {
     "name": "stdout",
     "output_type": "stream",
     "text": [
      "System.Int32\n"
     ]
    }
   ],
   "source": [
    "int a=5;\n",
    "Console.WriteLine(a.GetType());"
   ]
  },
  {
   "cell_type": "code",
   "execution_count": 8,
   "id": "9593064a",
   "metadata": {},
   "outputs": [
    {
     "name": "stdout",
     "output_type": "stream",
     "text": [
      "System.Single\n"
     ]
    }
   ],
   "source": [
    "float f=5.0F;\n",
    "Console.WriteLine(f.GetType());"
   ]
  },
  {
   "cell_type": "code",
   "execution_count": 52,
   "id": "ea46e7de",
   "metadata": {},
   "outputs": [
    {
     "name": "stdout",
     "output_type": "stream",
     "text": [
      "System.Boolean\n"
     ]
    }
   ],
   "source": [
    "bool a=5>1;\n",
    "Console.WriteLine(a.GetType());"
   ]
  },
  {
   "cell_type": "code",
   "execution_count": 10,
   "id": "4e8f8e06",
   "metadata": {},
   "outputs": [
    {
     "name": "stdout",
     "output_type": "stream",
     "text": [
      "System.Char\n"
     ]
    }
   ],
   "source": [
    "char a='5';\n",
    "Console.WriteLine(a.GetType());"
   ]
  },
  {
   "cell_type": "code",
   "execution_count": 45,
   "id": "771ac6b5",
   "metadata": {},
   "outputs": [
    {
     "name": "stdout",
     "output_type": "stream",
     "text": [
      "System.Int32\n"
     ]
    }
   ],
   "source": [
    "int a=5*2;\n",
    "Console.WriteLine(a.GetType());"
   ]
  },
  {
   "cell_type": "code",
   "execution_count": 14,
   "id": "eadaf167",
   "metadata": {},
   "outputs": [
    {
     "name": "stdout",
     "output_type": "stream",
     "text": [
      "System.Int32\n"
     ]
    }
   ],
   "source": [
    "int a='5'* 2;\n",
    "Console.WriteLine(a.GetType());"
   ]
  },
  {
   "cell_type": "code",
   "execution_count": 16,
   "id": "da779f4e",
   "metadata": {},
   "outputs": [
    {
     "name": "stdout",
     "output_type": "stream",
     "text": [
      "System.Int32\n"
     ]
    }
   ],
   "source": [
    "int a='5'+'2';\n",
    "Console.WriteLine(a.GetType());"
   ]
  },
  {
   "cell_type": "code",
   "execution_count": 10,
   "id": "8a27f264",
   "metadata": {},
   "outputs": [
    {
     "name": "stdout",
     "output_type": "stream",
     "text": [
      "System.Single\n"
     ]
    }
   ],
   "source": [
    "float a=5/2F;\n",
    "Console.WriteLine(a.GetType());"
   ]
  },
  {
   "cell_type": "code",
   "execution_count": 2,
   "id": "01e92d3f",
   "metadata": {},
   "outputs": [
    {
     "name": "stdout",
     "output_type": "stream",
     "text": [
      "System.Int32\n"
     ]
    }
   ],
   "source": [
    "int a=5%2;\n",
    "Console.WriteLine(a.GetType());"
   ]
  },
  {
   "cell_type": "code",
   "execution_count": 6,
   "id": "463f6a7e",
   "metadata": {},
   "outputs": [
    {
     "name": "stdout",
     "output_type": "stream",
     "text": [
      "System.Int32[]\n"
     ]
    }
   ],
   "source": [
    "int []a={5,2,1};\n",
    "Console.WriteLine(a.GetType());"
   ]
  },
  {
   "cell_type": "code",
   "execution_count": 5,
   "id": "d0a7f037",
   "metadata": {},
   "outputs": [
    {
     "name": "stdout",
     "output_type": "stream",
     "text": [
      "System.Boolean\n"
     ]
    }
   ],
   "source": [
    "bool a=5==3;\n",
    "Console.WriteLine(a.GetType());"
   ]
  },
  {
   "cell_type": "code",
   "execution_count": 8,
   "id": "66250600",
   "metadata": {},
   "outputs": [
    {
     "name": "stdout",
     "output_type": "stream",
     "text": [
      "System.Double\n"
     ]
    }
   ],
   "source": [
    "double a=22/7;\n",
    "Console.WriteLine(a.GetType());"
   ]
  },
  {
   "cell_type": "markdown",
   "id": "f5e1efc7",
   "metadata": {},
   "source": [
    "# Question 2:\n",
    "\n",
    "Write (and evaluate) C# expressions that answer these questions:\n",
    "a. How many letters are there in 'Supercalifragilisticexpialidocious'?\n",
    "b. Does 'Supercalifragilisticexpialidocious' contain 'ice' as a substring?\n",
    "c. Which of the following words is the longest:\n",
    "Supercalifragilisticexpialidocious, Honorificabilitudinitatibus, or\n",
    "Bababadalgharaghtakamminarronnkonn?\n",
    "d. Which composer comes first in the dictionary: 'Berlioz', 'Borodin', 'Brian',\n",
    "'Bartok', 'Bellini', 'Buxtehude', 'Bernstein'. Which one comes last?\n"
   ]
  },
  {
   "cell_type": "code",
   "execution_count": 53,
   "id": "7c0cb8f4",
   "metadata": {},
   "outputs": [
    {
     "name": "stdout",
     "output_type": "stream",
     "text": [
      "The number of Letters are 34\n"
     ]
    }
   ],
   "source": [
    "//a\n",
    "string s=\"Supercalifragilisticexpialidocious\";\n",
    "int count=0;\n",
    "foreach(char c in s)\n",
    "{\n",
    "count=count+1;\n",
    "}\n",
    "Console.WriteLine(\"The number of Letters are \"+count);"
   ]
  },
  {
   "cell_type": "code",
   "execution_count": 55,
   "id": "6e659b82",
   "metadata": {},
   "outputs": [
    {
     "name": "stdout",
     "output_type": "stream",
     "text": [
      "It is a substring\n"
     ]
    }
   ],
   "source": [
    "//b\n",
    "string a=\"Supercalifragilisticexpialidocious\";\n",
    "string b=\"ice\";\n",
    "if (a.Contains(b))\n",
    "Console.WriteLine(\"It is a substring\");"
   ]
  },
  {
   "cell_type": "code",
   "execution_count": 56,
   "id": "fb9f7b45",
   "metadata": {},
   "outputs": [
    {
     "name": "stdout",
     "output_type": "stream",
     "text": [
      "a and b are equal and longer than c\n"
     ]
    }
   ],
   "source": [
    "//c\n",
    "string a=\"Supercalifragilisticexpialidocious\";\n",
    "string b=\"Honorificabilitudinitatibus\";\n",
    "string c=\"Bababadalgharaghtakamminarronnkonn\";\n",
    "if (a.Length>b.Length)\n",
    "{\n",
    "if (a.Length==c.Length)\n",
    "{\n",
    "Console.WriteLine($\"a and b are equal and longer than c\");\n",
    "}\n",
    "else if (a.Length>c.Length)\n",
    "{\n",
    "Console.WriteLine($\"a is the longest word\");\n",
    "}\n",
    "else\n",
    "{\n",
    "Console.WriteLine($\"c is the longest word\");\n",
    "}\n",
    "}\n",
    "else if(a.Length<b.Length)\n",
    "{\n",
    "if(b.Length==c.Length)\n",
    "{\n",
    "Console.WriteLine($\"b and c are equal and longer than a\");\n",
    "}\n",
    "else if (b.Length>c.Length)\n",
    "{\n",
    "Console.WriteLine($\"b is the longest word\");\n",
    "}\n",
    "else\n",
    "{\n",
    "Console.WriteLine($\"c is the longest word\");\n",
    "}\n",
    "}"
   ]
  },
  {
   "cell_type": "code",
   "execution_count": 59,
   "id": "d6b2e9ea",
   "metadata": {},
   "outputs": [
    {
     "name": "stdout",
     "output_type": "stream",
     "text": [
      "The first composer in the dictionary is Bartok \n",
      "The last composer in the dictionary is Buxtehude \n"
     ]
    }
   ],
   "source": [
    "//d\n",
    "List<string> wordList=new List<string>();\n",
    "wordList.Add(\"Berlioz\");\n",
    "wordList.Add(\"Borodin\");\n",
    "wordList.Add(\"Brian\");\n",
    "wordList.Add(\"Bartok\");\n",
    "wordList.Add(\"Bellini\");\n",
    "wordList.Add(\"Buxtehude\");\n",
    "wordList.Add(\"Bernstein\");\n",
    "\n",
    "wordList.Sort();\n",
    "\n",
    "Console.WriteLine($\"The first composer in the dictionary is {wordList[0]} \");\n",
    "Console.WriteLine($\"The last composer in the dictionary is {wordList[6]} \");"
   ]
  },
  {
   "cell_type": "markdown",
   "id": "8de2901f",
   "metadata": {},
   "source": [
    "# Question 3:\n",
    "\n",
    "Implement function triangleArea(a,b,c) that takes as input the lengths of the 3\n",
    "sides of a triangle and returns the area of the triangle. By Heron's formula, the area\n",
    "of a triangle with side lengths a, b, and c is\n",
    "s(s - a)(s -b)(s -c)\n",
    ", where\n",
    "s = (a+b+c)/2. "
   ]
  },
  {
   "cell_type": "code",
   "execution_count": 2,
   "id": "0d878935",
   "metadata": {},
   "outputs": [
    {
     "data": {
      "text/html": [
       "<div class=\"dni-plaintext\">1.7320508075688772</div>"
      ]
     },
     "execution_count": 2,
     "metadata": {},
     "output_type": "execute_result"
    }
   ],
   "source": [
    "double triangleArea(double a,double b,double c)\n",
    "{\n",
    "double s=(a+b+c)/2;\n",
    "double area=Math.Sqrt(s*(s-a)*(s-b)*(s-c));\n",
    "return area;\n",
    "}\n",
    "\n",
    "\n",
    "triangleArea(2,2,2)"
   ]
  },
  {
   "cell_type": "markdown",
   "id": "dab36170",
   "metadata": {},
   "source": [
    "# Question 4:\n",
    "\n",
    "Write a program in C# Sharp to separate odd and even integers in separate arrays."
   ]
  },
  {
   "cell_type": "code",
   "execution_count": null,
   "id": "7b1286ba",
   "metadata": {},
   "outputs": [],
   "source": [
    "int[] arr1 = new int[10];\n",
    "int[] arr2 = new int[10];\n",
    "int[] arr3 = new int[10];\n",
    "int i,j=0,k=0,n;\n",
    "\n",
    "Console.WriteLine(\"Input the number of elements to be stored in the array :\\n\");\n",
    "n = Convert.ToInt32(Console.ReadLine()); \n",
    "\n",
    "Console.WriteLine(\"Input {0} elements in the array :\\n\",n);\n",
    "       for(i=0;i<n;i++)\n",
    "            {\n",
    "     Console.WriteLine(\"element - {0} : \",i);\n",
    "     arr1[i] = Convert.ToInt32(Console.ReadLine()); \n",
    "    }\n",
    "\n",
    "    for(i=0;i<n;i++)\n",
    "    {\n",
    "if (arr1[i]%2 == 0)\n",
    "{\n",
    "arr2[j] = arr1[i];\n",
    " j++;\n",
    "}\n",
    "else\n",
    "{\n",
    " arr3[k] = arr1[i];\n",
    "  k++;\n",
    "}\n",
    "    }\n",
    "\n",
    "    Console.WriteLine(\"\\nThe Even elements are : \\n\");\n",
    "    for(i=0;i<j;i++)\n",
    "    {\n",
    "Console.WriteLine(\"{0} \",arr2[i]);\n",
    "    }\n",
    "\n",
    "    Console.WriteLine(\"\\nThe Odd elements are :\\n\");\n",
    "    for(i=0;i<k;i++)\n",
    "    {\n",
    "Console.WriteLine(\"{0} \", arr3[i]);\n",
    "    }\n",
    "    Console.WriteLine(\"\\n\\n\");"
   ]
  },
  {
   "cell_type": "markdown",
   "id": "4878fba2",
   "metadata": {},
   "source": [
    "###### Output From Visual Studio:\n",
    "\n",
    "Input the number of elements to be stored in the array :\n",
    "\n",
    "5\n",
    "Input 5 elements in the array :\n",
    "\n",
    "element - 0 : \n",
    "12\n",
    "element - 1 : \n",
    "15\n",
    "element - 2 : \n",
    "18\n",
    "element - 3 : \n",
    "33\n",
    "element - 4 : \n",
    "67\n",
    "\n",
    "The Even elements are : \n",
    "\n",
    "12 \n",
    "18 \n",
    "\n",
    "The Odd elements are :\n",
    "\n",
    "15 \n",
    "33 \n",
    "67"
   ]
  },
  {
   "cell_type": "markdown",
   "id": "230a92d4",
   "metadata": {},
   "source": [
    "# Question 5:\n",
    "\n",
    "a. Write a function inside(x,y,x1,y1,x2,y2) that returns True or False\n",
    "depending on whether the point (x,y) lies in the rectangle with lower left\n",
    "corner (x1,y1) and upper right corner (x2,y2).\n",
    "\n",
    "b. Use function inside() from part a. to write an expression that tests whether\n",
    "the point (1,1) lies in both of the following rectangles: one with lower left\n",
    "corner (0.3, 0.5) and upper right corner (1.1, 0.7) and the other with lower\n",
    "left corner (0.5, 0.2) and upper right corner (1.1, 2). "
   ]
  },
  {
   "cell_type": "code",
   "execution_count": 9,
   "id": "c0c0b8b3",
   "metadata": {},
   "outputs": [
    {
     "name": "stdout",
     "output_type": "stream",
     "text": [
      "False for Rectangle1\n",
      "\n",
      "True for Rectangle2"
     ]
    }
   ],
   "source": [
    "//a\n",
    "static bool inside(double x1, double y1, double x2,double y2, int x, int y)\n",
    "{\n",
    "if (x > x1 && x < x2 && y > y1 && y < y2)\n",
    "return true;\n",
    "else\n",
    "return false;\n",
    "}\n",
    "\n",
    "\n",
    "//b\n",
    "double x1=0.3, y1=0.5, x2=1.1, y2=0.7;\n",
    "int x=1, y=1;\n",
    "\n",
    "if (inside(x1, y1, x2, y2, x, y))\n",
    "        Console.Write(\"True for Rectangle1\");\n",
    "    else\n",
    "        Console.Write(\"False for Rectangle1\");\n",
    "\n",
    "Console.WriteLine(\"\\n\");\n",
    "\n",
    "double a1=0.5, b1=0.2, a2=1.1, b2=2;\n",
    "int c=1, d=1;\n",
    "\n",
    "if (inside(a1, b1, a2, b2, c, d))\n",
    "        Console.Write(\"True for Rectangle2\");\n",
    "    else\n",
    "        Console.Write(\"False for Rectangle2\");"
   ]
  }
 ],
 "metadata": {
  "kernelspec": {
   "display_name": ".NET (C#)",
   "language": "C#",
   "name": ".net-csharp"
  },
  "language_info": {
   "file_extension": ".cs",
   "mimetype": "text/x-csharp",
   "name": "C#",
   "pygments_lexer": "csharp",
   "version": "9.0"
  }
 },
 "nbformat": 4,
 "nbformat_minor": 5
}
