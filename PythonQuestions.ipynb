{
 "cells": [
  {
   "cell_type": "markdown",
   "id": "68e5715c",
   "metadata": {},
   "source": [
    "# Question 6: \n",
    "\n",
    "You can turn a word into pig-Latin using the following two rules (simplified):\n",
    "• If the word starts with a consonant, move that letter to the end and append\n",
    "'ay'. For example, 'happy' becomes 'appyhay' and 'pencil' becomes 'encilpay'.\n",
    "• If the word starts with a vowel, simply append 'way' to the end of the word.\n",
    "For example, 'enter' becomes 'enterway' and 'other' becomes 'otherway' . For\n",
    "our purposes, there are 5 vowels: a, e, i, o, u (so we count y as a consonant).\n",
    "\n",
    "Write a function pig() that takes a word (i.e., a string) as input and returns its pigLatin form. Your function should still work if the input word contains upper case\n",
    "characters. Your output should always be lower case however."
   ]
  },
  {
   "cell_type": "code",
   "execution_count": 11,
   "id": "d4cb7fc5",
   "metadata": {},
   "outputs": [
    {
     "name": "stdout",
     "output_type": "stream",
     "text": [
      "Enter the word: Enter\n",
      "enterway\n"
     ]
    }
   ],
   "source": [
    "vowel_letters=('a','e','i','o','u')\n",
    "def pig(word):\n",
    "    if(word[0].lower() in vowel_letters):\n",
    "        print(word.lower()+ 'way')\n",
    "    else:\n",
    "        print(word[1:].lower()+word[0].lower()+'ay')\n",
    "word=input(\"Enter the word: \");\n",
    "pig(word);\n"
   ]
  },
  {
   "cell_type": "markdown",
   "id": "cdbbef7e",
   "metadata": {},
   "source": [
    "# Question 7: \n",
    "\n",
    "File bloodtype1.txt records blood-types of patients (A, B, AB, O or OO) at a clinic.\n",
    "Write a function bldcount() that reads the file with name name and reports (i.e.,\n",
    "prints) how many patients there are in each bloodtype."
   ]
  },
  {
   "cell_type": "code",
   "execution_count": 57,
   "id": "8d06b2dc",
   "metadata": {},
   "outputs": [
    {
     "name": "stdout",
     "output_type": "stream",
     "text": [
      "There are 15 patients of blood type A.\n",
      "There is 1 patient of blood type B.\n",
      "There are 13 patients of blood type AB.\n",
      "There are 15 patients of blood type O.\n",
      "There are no patients of blood type OO.\n"
     ]
    }
   ],
   "source": [
    "def bldcount(name):\n",
    "    content=open(name,'r')\n",
    "    data=content.read()\n",
    "    content.close()\n",
    "    data=data.split()\n",
    "    bloodtype=['A','B','AB','O','OO']\n",
    "    for i in bloodtype:\n",
    "        if data.count(i)==0:\n",
    "            print('There are no patients of blood type' ,i+ '.')\n",
    "        elif data.count(i)==1:\n",
    "            print('There is 1 patient of blood type' ,i+ '.')\n",
    "        else:\n",
    "            print('There are',data.count(i),'patients of blood type' ,i+ '.')\n",
    "bldcount('bloodtype1.txt')"
   ]
  },
  {
   "cell_type": "markdown",
   "id": "c3ef3394",
   "metadata": {},
   "source": [
    "# Question 8:\n",
    "\n",
    "Write a function curconv() that takes as input:\n",
    "1. a currency represented using a string (e.g., 'JPY' for the Japanese Yen or\n",
    "'EUR' for the Euro)\n",
    "2. an amount\n",
    "and then converts and returns the amount in US dollars."
   ]
  },
  {
   "cell_type": "code",
   "execution_count": 55,
   "id": "b05de559",
   "metadata": {},
   "outputs": [
    {
     "name": "stdout",
     "output_type": "stream",
     "text": [
      "Enter the currency :EUR\n",
      "Enter the currency :JPY\n"
     ]
    }
   ],
   "source": [
    "currencyEUR=input('Enter the currency :')\n",
    "currencyJPY=input('Enter the currency :')"
   ]
  },
  {
   "cell_type": "code",
   "execution_count": 2,
   "id": "ca73afb4",
   "metadata": {},
   "outputs": [
    {
     "name": "stdout",
     "output_type": "stream",
     "text": [
      "The converted currency in US dollars from EUR : 122.96544\n",
      "The converted currency in US dollars from JPY : 1.241401\n"
     ]
    }
   ],
   "source": [
    "def curconv(curr,conv):\n",
    "    infile=open('/Users/pravalikajoy/Downloads/currencies.txt')\n",
    "    info=infile.read()\n",
    "    result=info.split()\n",
    "    infile.close()\n",
    "    if(curr in result):\n",
    "        pos=result.index(curr) + 1\n",
    "        conv=float(result[pos]) * conv\n",
    "        print('The converted currency in US dollars from ' + curr + ' : ' + str (conv))\n",
    "curconv('EUR',100)\n",
    "curconv('JPY',100)\n"
   ]
  },
  {
   "cell_type": "markdown",
   "id": "8972a45d",
   "metadata": {},
   "source": [
    "# Question 9 :\n",
    "\n",
    "-Trying to add incompatible variables, as in adding 6 + ‘a’\n",
    "\n",
    "-Referring to the 12th item of a list that has only 10 items\n",
    "\n",
    "-Using a value that is out of range for a function’s input, such as calling math.sqrt(-1.0)\n",
    "\n",
    "-Using an undeclared variable, such as print(x) when x has not been defined\n",
    "\n",
    "-Trying to open a file that does not exist, such as mistyping the file name or looking in the wrong directory. \n"
   ]
  },
  {
   "cell_type": "code",
   "execution_count": 79,
   "id": "996171b4",
   "metadata": {},
   "outputs": [
    {
     "ename": "TypeError",
     "evalue": "unsupported operand type(s) for +: 'int' and 'str'",
     "output_type": "error",
     "traceback": [
      "\u001b[0;31m---------------------------------------------------------------------------\u001b[0m",
      "\u001b[0;31mTypeError\u001b[0m                                 Traceback (most recent call last)",
      "\u001b[0;32m/var/folders/gy/70l6zt610xz835hc0d1w8ddw0000gn/T/ipykernel_17097/2993242857.py\u001b[0m in \u001b[0;36m<module>\u001b[0;34m\u001b[0m\n\u001b[0;32m----> 1\u001b[0;31m \u001b[0mx\u001b[0m\u001b[0;34m=\u001b[0m\u001b[0;36m6\u001b[0m\u001b[0;34m+\u001b[0m\u001b[0;34m'a'\u001b[0m\u001b[0;34m\u001b[0m\u001b[0;34m\u001b[0m\u001b[0m\n\u001b[0m\u001b[1;32m      2\u001b[0m \u001b[0mprint\u001b[0m\u001b[0;34m(\u001b[0m\u001b[0mx\u001b[0m\u001b[0;34m)\u001b[0m\u001b[0;34m\u001b[0m\u001b[0;34m\u001b[0m\u001b[0m\n",
      "\u001b[0;31mTypeError\u001b[0m: unsupported operand type(s) for +: 'int' and 'str'"
     ]
    }
   ],
   "source": [
    "x=6+'a'\n",
    "print(x)"
   ]
  },
  {
   "cell_type": "code",
   "execution_count": 8,
   "id": "cb0a119b",
   "metadata": {},
   "outputs": [
    {
     "ename": "IndexError",
     "evalue": "list index out of range",
     "output_type": "error",
     "traceback": [
      "\u001b[0;31m---------------------------------------------------------------------------\u001b[0m",
      "\u001b[0;31mIndexError\u001b[0m                                Traceback (most recent call last)",
      "\u001b[0;32m/var/folders/gy/70l6zt610xz835hc0d1w8ddw0000gn/T/ipykernel_22300/2152842564.py\u001b[0m in \u001b[0;36m<module>\u001b[0;34m\u001b[0m\n\u001b[1;32m      1\u001b[0m \u001b[0mlist\u001b[0m \u001b[0;34m=\u001b[0m \u001b[0;34m[\u001b[0m\u001b[0;36m1\u001b[0m\u001b[0;34m,\u001b[0m\u001b[0;36m2\u001b[0m\u001b[0;34m,\u001b[0m\u001b[0;36m3\u001b[0m\u001b[0;34m,\u001b[0m\u001b[0;36m4\u001b[0m\u001b[0;34m,\u001b[0m\u001b[0;36m5\u001b[0m\u001b[0;34m,\u001b[0m\u001b[0;36m6\u001b[0m\u001b[0;34m,\u001b[0m\u001b[0;36m7\u001b[0m\u001b[0;34m,\u001b[0m\u001b[0;36m8\u001b[0m\u001b[0;34m,\u001b[0m\u001b[0;36m9\u001b[0m\u001b[0;34m,\u001b[0m\u001b[0;36m10\u001b[0m\u001b[0;34m]\u001b[0m\u001b[0;34m\u001b[0m\u001b[0;34m\u001b[0m\u001b[0m\n\u001b[1;32m      2\u001b[0m \u001b[0;34m\u001b[0m\u001b[0m\n\u001b[0;32m----> 3\u001b[0;31m \u001b[0mlist\u001b[0m\u001b[0;34m[\u001b[0m\u001b[0;36m12\u001b[0m\u001b[0;34m]\u001b[0m\u001b[0;34m\u001b[0m\u001b[0;34m\u001b[0m\u001b[0m\n\u001b[0m",
      "\u001b[0;31mIndexError\u001b[0m: list index out of range"
     ]
    }
   ],
   "source": [
    "list = [1,2,3,4,5,6,7,8,9,10]\n",
    "\n",
    "list[12]"
   ]
  },
  {
   "cell_type": "code",
   "execution_count": 3,
   "id": "da0c78c9",
   "metadata": {},
   "outputs": [],
   "source": [
    "import math"
   ]
  },
  {
   "cell_type": "code",
   "execution_count": 4,
   "id": "fcb70a03",
   "metadata": {},
   "outputs": [
    {
     "ename": "ValueError",
     "evalue": "math domain error",
     "output_type": "error",
     "traceback": [
      "\u001b[0;31m---------------------------------------------------------------------------\u001b[0m",
      "\u001b[0;31mValueError\u001b[0m                                Traceback (most recent call last)",
      "\u001b[0;32m/var/folders/gy/70l6zt610xz835hc0d1w8ddw0000gn/T/ipykernel_23597/2508052996.py\u001b[0m in \u001b[0;36m<module>\u001b[0;34m\u001b[0m\n\u001b[0;32m----> 1\u001b[0;31m \u001b[0mmath\u001b[0m\u001b[0;34m.\u001b[0m\u001b[0msqrt\u001b[0m\u001b[0;34m(\u001b[0m\u001b[0;34m-\u001b[0m\u001b[0;36m1.0\u001b[0m\u001b[0;34m)\u001b[0m\u001b[0;34m\u001b[0m\u001b[0;34m\u001b[0m\u001b[0m\n\u001b[0m",
      "\u001b[0;31mValueError\u001b[0m: math domain error"
     ]
    }
   ],
   "source": [
    "math.sqrt(-1.0)"
   ]
  },
  {
   "cell_type": "code",
   "execution_count": 20,
   "id": "b9093cc4",
   "metadata": {},
   "outputs": [
    {
     "ename": "NameError",
     "evalue": "name 'x' is not defined",
     "output_type": "error",
     "traceback": [
      "\u001b[0;31m---------------------------------------------------------------------------\u001b[0m",
      "\u001b[0;31mNameError\u001b[0m                                 Traceback (most recent call last)",
      "\u001b[0;32m/var/folders/gy/70l6zt610xz835hc0d1w8ddw0000gn/T/ipykernel_22300/1353120783.py\u001b[0m in \u001b[0;36m<module>\u001b[0;34m\u001b[0m\n\u001b[0;32m----> 1\u001b[0;31m \u001b[0mprint\u001b[0m\u001b[0;34m(\u001b[0m\u001b[0mx\u001b[0m\u001b[0;34m)\u001b[0m\u001b[0;34m\u001b[0m\u001b[0;34m\u001b[0m\u001b[0m\n\u001b[0m",
      "\u001b[0;31mNameError\u001b[0m: name 'x' is not defined"
     ]
    }
   ],
   "source": [
    "print(x)"
   ]
  },
  {
   "cell_type": "code",
   "execution_count": 21,
   "id": "88b6d809",
   "metadata": {},
   "outputs": [
    {
     "ename": "FileNotFoundError",
     "evalue": "[Errno 2] No such file or directory: 'Users/pravalikajoy/Downloads/currency.txt'",
     "output_type": "error",
     "traceback": [
      "\u001b[0;31m---------------------------------------------------------------------------\u001b[0m",
      "\u001b[0;31mFileNotFoundError\u001b[0m                         Traceback (most recent call last)",
      "\u001b[0;32m/var/folders/gy/70l6zt610xz835hc0d1w8ddw0000gn/T/ipykernel_22300/2929041846.py\u001b[0m in \u001b[0;36m<module>\u001b[0;34m\u001b[0m\n\u001b[0;32m----> 1\u001b[0;31m \u001b[0minfile\u001b[0m\u001b[0;34m=\u001b[0m\u001b[0mopen\u001b[0m\u001b[0;34m(\u001b[0m\u001b[0;34m'Users/pravalikajoy/Downloads/currency.txt'\u001b[0m\u001b[0;34m)\u001b[0m\u001b[0;34m\u001b[0m\u001b[0;34m\u001b[0m\u001b[0m\n\u001b[0m",
      "\u001b[0;31mFileNotFoundError\u001b[0m: [Errno 2] No such file or directory: 'Users/pravalikajoy/Downloads/currency.txt'"
     ]
    }
   ],
   "source": [
    "infile=open('Users/pravalikajoy/Downloads/currency.txt')"
   ]
  },
  {
   "cell_type": "markdown",
   "id": "64bc73bf",
   "metadata": {},
   "source": [
    "# Question 10 :\n",
    "\n",
    "Assume that the string letters is already defined as 'abcdefghijklmnopqrstuvwxyz'. Write a function called frequencies() that takes a string as its only parameter, and returns a list of integers, showing the number of times each character appears in the text. Your function may ignore any characters that are not in letters. "
   ]
  },
  {
   "cell_type": "code",
   "execution_count": 5,
   "id": "0c3b0740",
   "metadata": {},
   "outputs": [
    {
     "name": "stdout",
     "output_type": "stream",
     "text": [
      "6,5,4,3,0,0,0,0,0,0,0,0,0,0,0,0,0,0,0,0,0,0,0,0,0,3,\n",
      "\n",
      "1,1,1,3,5,1,1,2,1,0,1,0,1,2,4,0,1,2,0,2,1,0,1,1,0,0,\n",
      "\n",
      "1,0,0,0,1,0,0,0,0,0,0,1,0,0,0,2,0,0,0,0,0,0,0,0,0,0,"
     ]
    }
   ],
   "source": [
    "def frequencies(word):\n",
    "    lst=['a','b','c','d','e','f','g','h','i','j','k','l','m','n','o','p','q','r','s','t','u','v','w','x','y','z']\n",
    "    inputword=word\n",
    "    Length_lst=len(lst)\n",
    "    for i in range(0,Length_lst):\n",
    "        data=inputword.count(lst[i])\n",
    "        lst1=str(data)\n",
    "        print(lst1,end=\",\")\n",
    "\n",
    "frequencies('aaaaaa bbbbb cccc ddd zzz')\n",
    "print(\"\\n\")\n",
    "frequencies('The quick red fox got bored and went home.')\n",
    "print(\"\\n\")\n",
    "frequencies('apple')"
   ]
  }
 ],
 "metadata": {
  "kernelspec": {
   "display_name": "Python 3 (ipykernel)",
   "language": "python",
   "name": "python3"
  },
  "language_info": {
   "codemirror_mode": {
    "name": "ipython",
    "version": 3
   },
   "file_extension": ".py",
   "mimetype": "text/x-python",
   "name": "python",
   "nbconvert_exporter": "python",
   "pygments_lexer": "ipython3",
   "version": "3.9.7"
  }
 },
 "nbformat": 4,
 "nbformat_minor": 5
}
